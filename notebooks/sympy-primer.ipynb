{
 "cells": [
  {
   "cell_type": "markdown",
   "metadata": {},
   "source": [
    "## SymPy\n",
    "\n",
    "SymPy is a python library for [symbolic computing](https://en.wikipedia.org/wiki/Symbolic_computation).  Perhaps the most well known software that embraces symbolic computing is [Maple](https://en.wikipedia.org/wiki/Maple_(software)).  SymPy although significantly less powerul enables numerous symbolic areas of mathematics: algebra, arithmetic, calculus, discrete mathematics and quantum physics. It is capable of formatting the result of the computations as LaTeX code.\n",
    "\n",
    "SymPy is free software and is licensed under New BSD License. The lead developers are Ondřej Čertík and Aaron Meurer.  The following code will import everything from the package and enable latex rendering of output.\n"
   ]
  },
  {
   "cell_type": "code",
   "execution_count": 1,
   "metadata": {},
   "outputs": [],
   "source": [
    "from sympy import *\n",
    "from sympy import init_printing\n",
    "init_printing()"
   ]
  },
  {
   "cell_type": "markdown",
   "metadata": {},
   "source": [
    "### Symbolic Algebra\n",
    "\n",
    "In the same way we do algebra on paper we can use a computer.  Symbolic computation or [algebraic computation](https://en.wikipedia.org/wiki/Computer_algebra), is a scientific area that refers to the study and development of algorithms and software for manipulating mathematical expressions and other mathematical objects.\n",
    "\n",
    "For example"
   ]
  },
  {
   "cell_type": "code",
   "execution_count": 15,
   "metadata": {},
   "outputs": [
    {
     "data": {
      "image/png": "[encoded data removed]",
      "text/latex": [
       "$$2 \\sqrt{2}$$"
      ],
      "text/plain": [
       "2⋅√2"
      ]
     },
     "execution_count": 15,
     "metadata": {},
     "output_type": "execute_result"
    }
   ],
   "source": [
    "sqrt(8)"
   ]
  },
  {
   "cell_type": "markdown",
   "metadata": {},
   "source": [
    "We need to define our variables symbolically before we use them"
   ]
  },
  {
   "cell_type": "code",
   "execution_count": 2,
   "metadata": {},
   "outputs": [
    {
     "data": {
      "image/png": "[encoded data removed]",
      "text/latex": [
       "$$x$$"
      ],
      "text/plain": [
       "x"
      ]
     },
     "execution_count": 2,
     "metadata": {},
     "output_type": "execute_result"
    }
   ],
   "source": [
    "x,y,z = symbols('x y z')\n",
    "x"
   ]
  },
  {
   "cell_type": "markdown",
   "metadata": {},
   "source": [
    "once the variables are available we can define expressions and perform actions on them"
   ]
  },
  {
   "cell_type": "code",
   "execution_count": 3,
   "metadata": {},
   "outputs": [
    {
     "name": "stdout",
     "output_type": "stream",
     "text": [
      "x + 2*y\n",
      "10*x + 2*y\n"
     ]
    }
   ],
   "source": [
    "expr = x + 2*y\n",
    "print(expr)\n",
    "expr = expr + 9*x\n",
    "print(expr)"
   ]
  },
  {
   "cell_type": "markdown",
   "metadata": {},
   "source": [
    "you may want to **expand** the algebric representation"
   ]
  },
  {
   "cell_type": "code",
   "execution_count": 4,
   "metadata": {},
   "outputs": [
    {
     "name": "stdout",
     "output_type": "stream",
     "text": [
      "x*(10*x + 2*y)\n",
      "10*x**2 + 2*x*y\n"
     ]
    }
   ],
   "source": [
    "expr2 = x*expr\n",
    "print(expr2)\n",
    "print(expand(expr2))"
   ]
  },
  {
   "cell_type": "markdown",
   "metadata": {},
   "source": [
    "Recall that factoring is the process of finding the factors--that is finding the terms to multiply together to get an expression. If you need a refresher check out the [Khan academy materials on factoring](https://www.khanacademy.org/math/algebra/polynomial-factorization).  Sympy can factorize"
   ]
  },
  {
   "cell_type": "code",
   "execution_count": 5,
   "metadata": {},
   "outputs": [
    {
     "data": {
      "image/png": "[encoded data removed]",
      "text/latex": [
       "$$x \\left(x + 1\\right)$$"
      ],
      "text/plain": [
       "x⋅(x + 1)"
      ]
     },
     "execution_count": 5,
     "metadata": {},
     "output_type": "execute_result"
    }
   ],
   "source": [
    "expr = x + x**2\n",
    "factor(expr)"
   ]
  },
  {
   "cell_type": "markdown",
   "metadata": {},
   "source": [
    "### Symbolic calculus - derivatives\n",
    "\n",
    "#### Definition of a derivative\n",
    "\n",
    "From [wiki](https://en.wikipedia.org/wiki/Derivative) \n",
    "\n",
    ">Derivatives are a fundamental tool of calculus. For example, the derivative of the position of a moving object with respect to time is the object's velocity: this measures how quickly the position of the object changes when time advances.\n",
    "\n",
    "The derivative of f with respect to x is given by  \n",
    "\n",
    "$ f'(x) = \\lim_{h \\to 0} \\frac{f(x+h) - f(x)}{h}$    \n",
    "\n",
    "when this limit exits.\n",
    "\n",
    "#### Basic derivative properties\n",
    "\n",
    "Assuming *c* and *n* to be real constants, then these theorems hold true:\n",
    "\n",
    "and if you want [proofs.](http://www2.bc.cc.ca.us/resperic/Math6A/Lectures/ch2/3/DerivativeRuleProofs.htm)\n",
    "\n",
    ">**1**. *The derivative of a constant is 0*\n",
    "\n",
    "$ \\frac{d}{dx}c = 0 $ "
   ]
  },
  {
   "cell_type": "code",
   "execution_count": 65,
   "metadata": {},
   "outputs": [
    {
     "data": {
      "image/png": "[encoded data removed]",
      "text/latex": [
       "$$0$$"
      ],
      "text/plain": [
       "0"
      ]
     },
     "execution_count": 65,
     "metadata": {},
     "output_type": "execute_result"
    }
   ],
   "source": [
    "c = 1\n",
    "diff(c)"
   ]
  },
  {
   "cell_type": "markdown",
   "metadata": {},
   "source": [
    ">**2**. *The derivative of a variable is 1*\n",
    "\n",
    "$ \\frac{d}{dx}x = 1 $"
   ]
  },
  {
   "cell_type": "code",
   "execution_count": 74,
   "metadata": {},
   "outputs": [
    {
     "data": {
      "image/png": "[encoded data removed]",
      "text/latex": [
       "$$1$$"
      ],
      "text/plain": [
       "1"
      ]
     },
     "execution_count": 74,
     "metadata": {},
     "output_type": "execute_result"
    }
   ],
   "source": [
    "diff(x)"
   ]
  },
  {
   "cell_type": "markdown",
   "metadata": {},
   "source": [
    ">**3**. *The derivative of a constant times a function is the same as the deriviative of that function times the constant*\n",
    "\n",
    "$ \\frac{d}{dx}(c \\cdot f(x)) = c \\cdot \\frac{d}{dx}f(x) = c \\cdot f'(x) $  "
   ]
  },
  {
   "cell_type": "code",
   "execution_count": 77,
   "metadata": {},
   "outputs": [
    {
     "data": {
      "image/png": "[encoded data removed]",
      "text/latex": [
       "$$- \\frac{1}{x^{2}}$$"
      ],
      "text/plain": [
       "-1 \n",
       "───\n",
       "  2\n",
       " x "
      ]
     },
     "execution_count": 77,
     "metadata": {},
     "output_type": "execute_result"
    }
   ],
   "source": [
    "diff(1/x * c)"
   ]
  },
  {
   "cell_type": "code",
   "execution_count": 84,
   "metadata": {},
   "outputs": [
    {
     "name": "stdout",
     "output_type": "stream",
     "text": [
      "-1/x**2\n"
     ]
    }
   ],
   "source": [
    "c * diff(1/x)"
   ]
  },
  {
   "cell_type": "markdown",
   "metadata": {},
   "source": [
    ">**4**. The derivative of a function plus or minus another function is the same as if we took the derivative separately\n",
    "\n",
    "$ \\frac{d}{dx}(f(x) + g(x)) = f'(x) + g'(x) $  (true for minus as well)  "
   ]
  },
  {
   "cell_type": "code",
   "execution_count": 7,
   "metadata": {
    "scrolled": true
   },
   "outputs": [
    {
     "data": {
      "image/png": "[encoded data removed]",
      "text/latex": [
       "$$\\frac{1}{x} - \\frac{1}{x^{2}}$$"
      ],
      "text/plain": [
       "1   1 \n",
       "─ - ──\n",
       "x    2\n",
       "    x "
      ]
     },
     "execution_count": 7,
     "metadata": {},
     "output_type": "execute_result"
    }
   ],
   "source": [
    "diff(1/x + ln(x))"
   ]
  },
  {
   "cell_type": "code",
   "execution_count": 9,
   "metadata": {},
   "outputs": [
    {
     "data": {
      "image/png": "[encoded data removed]",
      "text/latex": [
       "$$\\frac{1}{x} - \\frac{1}{x^{2}}$$"
      ],
      "text/plain": [
       "1   1 \n",
       "─ - ──\n",
       "x    2\n",
       "    x "
      ]
     },
     "execution_count": 9,
     "metadata": {},
     "output_type": "execute_result"
    }
   ],
   "source": [
    "diff(1/x) + diff(ln(x))"
   ]
  },
  {
   "cell_type": "markdown",
   "metadata": {},
   "source": [
    ">**5**. The derivative\n",
    "\n",
    "$ \\frac{d}{dx}x^n = n \\cdot x^{n-1} $  the power rule"
   ]
  },
  {
   "cell_type": "code",
   "execution_count": 10,
   "metadata": {},
   "outputs": [],
   "source": [
    "## can you show that this rule holds?"
   ]
  },
  {
   "cell_type": "code",
   "execution_count": 6,
   "metadata": {},
   "outputs": [
    {
     "data": {
      "image/png": "[encoded data removed]",
      "text/latex": [
       "$$\\frac{\\partial}{\\partial x}\\left(y + \\frac{1}{x}\\right)$$"
      ],
      "text/plain": [
       "∂ ⎛    1⎞\n",
       "──⎜y + ─⎟\n",
       "∂x⎝    x⎠"
      ]
     },
     "execution_count": 6,
     "metadata": {},
     "output_type": "execute_result"
    }
   ],
   "source": [
    "## here is a way to write partial derivatives\n",
    "expr = Derivative(1/x+y,x)\n",
    "expr\n"
   ]
  },
  {
   "cell_type": "code",
   "execution_count": null,
   "metadata": {},
   "outputs": [],
   "source": []
  }
 ],
 "metadata": {
  "kernelspec": {
   "display_name": "Python 3",
   "language": "python",
   "name": "python3"
  },
  "language_info": {
   "codemirror_mode": {
    "name": "ipython",
    "version": 3
   },
   "file_extension": ".py",
   "mimetype": "text/x-python",
   "name": "python",
   "nbconvert_exporter": "python",
   "pygments_lexer": "ipython3",
   "version": "3.6.4"
  }
 },
 "nbformat": 4,
 "nbformat_minor": 2
}
