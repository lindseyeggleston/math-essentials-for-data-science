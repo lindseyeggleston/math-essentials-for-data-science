{
 "cells": [
  {
   "cell_type": "markdown",
   "metadata": {},
   "source": [
    "# Linear algebra and NumPy\n",
    "\n",
    "This morning we will revisit some linear algebra using the NumPy library in python. \n",
    "\n",
    "**For the following exercises, use numpy vector/matrix operations. Do not use a for loop unless given explicit instructions**\n",
    "\n",
    "## Part 0: Important Numpy Notes:\n",
    "\n",
    "In an numpy array, a **row vector** is defined as:\n",
    "\n",
    "```python\n",
    "a = np.array([[1, 2, 3]])\n",
    "```\n",
    "The shape of `a` is `(1, 3)`.\n",
    "\n",
    "A **column vector** is defined as:\n",
    "```python\n",
    "b = np.array([[1], [2], [3]])\n",
    "```\n",
    "The shape of `b` is `(3, 1)`.\n",
    "\n",
    "Ensure that you check the `shape` of all the vectors throughout the exercise.\n",
    "If the shape is missing a value, i.e. `(3,)` or  `(,3)`, use `np.newaxis` to\n",
    "restore the correct dimensions."
   ]
  },
  {
   "cell_type": "code",
   "execution_count": 1,
   "metadata": {
    "collapsed": true
   },
   "outputs": [],
   "source": [
    "import numpy as np"
   ]
  },
  {
   "cell_type": "markdown",
   "metadata": {},
   "source": [
    "## Part 1: Linear Algebra Practice:\n",
    "\n",
    "### Part 1.1\n",
    "\n",
    "The [stochastic matrix](https://en.wikipedia.org/wiki/Stochastic_matrix) or a Markov Matrix is a useful mathematical construct.  It is used to characterize transitions for a finite [Markov chain](https://en.wikipedia.org/wiki/Markov_chain). [A markov chain](https://en.oxforddictionaries.com/definition/us/markov_chain) can be described as follows:\n",
    "\n",
    ">a stochastic model describing a sequence of possible events in which the probability of each event depends only  on the state attained in the previous event.\n",
    "\n",
    "The stoichastic matrix is a square matrix specifying the probabilities of going from one state to the other such that every column of the matrix sums to 1.\n",
    "\n",
    "The probability of entering a certain state depends only on the last state occupied and the stochastic matrix, not on any earlier states.\n",
    "\n",
    "Suppose that the 2004 **state of land use** in a city of 60 $\\textrm{miles}^2$ of built-up\n",
    "area is:\n",
    "\n",
    "\n",
    "\n",
    "```\n",
    "In 2004:\n",
    "   \n",
    "C (Commercially Used): 25%\n",
    "I (Industrially Used): 20%\n",
    "R (Residentially Used): 55%\n",
    "```\n",
    "\n",
    "Find the **state of land use** in **2009** and **2014**,\n",
    "assuming that the transition probabilities for 5-year intervals are given\n",
    "by the matrix **A** and remain practically the same over the time considered.\n",
    "\n",
    "The following matrix can help visualize this process:\n",
    "\n",
    "$$\n",
    "    \\mathbf{A} =\n",
    "    \\begin{pmatrix}\n",
    "    C\\rightarrow C & I\\rightarrow C & R \\rightarrow C \\\\ \n",
    "    C\\rightarrow I & I\\rightarrow I & R \\rightarrow I \\\\ \n",
    "    C\\rightarrow R & I\\rightarrow R & R \\rightarrow R \\\\ \n",
    "    \\end{pmatrix}\n",
    "    = \n",
    "    \\begin{pmatrix}\n",
    "    0.7 & 0.1 & 0.0\\\\ \n",
    "    0.2 & 0.9 & 0.2\\\\ \n",
    "    0.1 & 0.0 & 0.8\\\\\n",
    "    \\end{pmatrix}\n",
    "$$"
   ]
  },
  {
   "cell_type": "code",
   "execution_count": 2,
   "metadata": {},
   "outputs": [
    {
     "name": "stdout",
     "output_type": "stream",
     "text": [
      "[[ 0.7  0.1  0. ]\n",
      " [ 0.2  0.9  0.2]\n",
      " [ 0.1  0.   0.8]]\n"
     ]
    }
   ],
   "source": [
    "# Question 1\n",
    "# Create the stochastic matrix shown above\n",
    "a = np.array([[0.7,0.1,0.],[0.2,0.9,0.2],[0.1,0.,0.8]])\n",
    "print(a)"
   ]
  },
  {
   "cell_type": "code",
   "execution_count": 3,
   "metadata": {},
   "outputs": [
    {
     "name": "stdout",
     "output_type": "stream",
     "text": [
      "[[ 0.25]\n",
      " [ 0.2 ]\n",
      " [ 0.55]]\n"
     ]
    }
   ],
   "source": [
    "# Question 2\n",
    "# Create a vector representing the initial state of land use\n",
    "x = np.array([[.25,.2,.55]]).T\n",
    "print(x)"
   ]
  },
  {
   "cell_type": "code",
   "execution_count": 5,
   "metadata": {},
   "outputs": [
    {
     "name": "stdout",
     "output_type": "stream",
     "text": [
      "[[ 0.195]\n",
      " [ 0.34 ]\n",
      " [ 0.465]]\n"
     ]
    }
   ],
   "source": [
    "# Question 3\n",
    "# Determine the state of land use in 2009\n",
    "y_2009 = np.dot(a,x)\n",
    "print(y_2009)"
   ]
  },
  {
   "cell_type": "code",
   "execution_count": 6,
   "metadata": {},
   "outputs": [
    {
     "name": "stdout",
     "output_type": "stream",
     "text": [
      "[[ 0.1705]\n",
      " [ 0.438 ]\n",
      " [ 0.3915]]\n"
     ]
    }
   ],
   "source": [
    "# Question 4\n",
    "# Determine the state of land use in 2014\n",
    "y_2014 = np.dot(a,y_2009)\n",
    "print(y_2014)"
   ]
  },
  {
   "cell_type": "code",
   "execution_count": 17,
   "metadata": {},
   "outputs": [
    {
     "data": {
      "text/plain": [
       "<matplotlib.legend.Legend at 0x118fd3320>"
      ]
     },
     "execution_count": 17,
     "metadata": {},
     "output_type": "execute_result"
    },
    {
     "data": {
      "image/png": "[encoded data removed]",
      "text/plain": [
       "<matplotlib.figure.Figure at 0x1196602e8>"
      ]
     },
     "metadata": {},
     "output_type": "display_data"
    }
   ],
   "source": [
    "# Extra credit\n",
    "# look at the following example plot and modify it to visualize the trend until 2029\n",
    "\n",
    "import matplotlib.pyplot as plt\n",
    "%matplotlib inline\n",
    "\n",
    "fig = plt.figure(figsize=(10,10))\n",
    "ax = fig.add_subplot(111)\n",
    "\n",
    "year = 2009\n",
    "land_use = []\n",
    "while year<=2029:\n",
    "    if year == 2009:\n",
    "        land_use.append(np.dot(a,x))\n",
    "    else:\n",
    "        land_use.append(np.dot(a,land_use[-1]))\n",
    "    year +=5\n",
    "\n",
    "land_use_mat = np.hstack(land_use)\n",
    "\n",
    "data1 = land_use_mat[0]\n",
    "data2 = land_use_mat[1]\n",
    "data3 = land_use_mat[2]\n",
    "\n",
    "ind = np.arange(land_use_mat.shape[1]) # the x locations for the groups\n",
    "width = 0.35                           # the width of the bars: can also be len(x) sequence\n",
    "\n",
    "p1 = ax.bar(ind, data1, width, color='blue')\n",
    "p2 = ax.bar(ind, data2, width, color='yellow', bottom=data1)\n",
    "p3 = ax.bar(ind, data3, width, color='green', bottom=data2)\n",
    "\n",
    "ax.set_ylabel('% Land Use')\n",
    "ax.set_title('State of Land Use')\n",
    "ax.set_xticks(ind, [str(range(2009,2030,5))])\n",
    "ax.legend((p1[0], p2[0], p3[0]), ('Commercial', 'Industrial', 'Residential'))"
   ]
  },
  {
   "cell_type": "code",
   "execution_count": 15,
   "metadata": {},
   "outputs": [
    {
     "data": {
      "text/plain": [
       "array([ 1.,  1.,  1.,  1.,  1.])"
      ]
     },
     "execution_count": 15,
     "metadata": {},
     "output_type": "execute_result"
    }
   ],
   "source": [
    "land_use_mat.sum(axis=0)"
   ]
  },
  {
   "cell_type": "code",
   "execution_count": null,
   "metadata": {
    "collapsed": true
   },
   "outputs": [],
   "source": []
  }
 ],
 "metadata": {
  "kernelspec": {
   "display_name": "Python 3",
   "language": "python",
   "name": "python3"
  },
  "language_info": {
   "codemirror_mode": {
    "name": "ipython",
    "version": 3
   },
   "file_extension": ".py",
   "mimetype": "text/x-python",
   "name": "python",
   "nbconvert_exporter": "python",
   "pygments_lexer": "ipython3",
   "version": "3.6.1"
  }
 },
 "nbformat": 4,
 "nbformat_minor": 2
}
