{
 "cells": [
  {
   "cell_type": "markdown",
   "metadata": {},
   "source": [
    "## SVD for topic analysis\n",
    "\n",
    "We can use SVD to determine what we call ***latent features***. This will be best demonstrated with an example.\n",
    "\n",
    "### Example\n",
    "\n",
    "Let's look at users ratings of different movies. The ratings are from 1-5. A rating of 0 means the user hasn't watched the movie.\n",
    "\n",
    "|       | Matrix | Alien | StarWars | Casablanca | Titanic |\n",
    "| ----- | ------ | ----- | -------- | ---------- | ------ |\n",
    "| **Alice** |      1 |     2 |        2 |          0 |      0 |\n",
    "|   **Bob** |      3 |     5 |        5 |          0 |      0 |\n",
    "| **Cindy** |      4 |     4 |        4 |          0 |      0 |\n",
    "|   **Dan** |      5 |     5 |        5 |          0 |      0 |\n",
    "| **Emily** |      0 |     2 |        0 |          4 |      4 |\n",
    "| **Frank** |      0 |     0 |        0 |          5 |      5 |\n",
    "|  **Greg** |      0 |     1 |        0 |          2 |      2 |\n",
    "\n",
    "Note that the first three movies (Matrix, Alien, StarWars) are Sci-fi movies and the last two (Casablanca, Titanic) are Romance. We will be able to mathematically pull out these topics!\n",
    "\n",
    "Let's do the computation with Python."
   ]
  },
  {
   "cell_type": "code",
   "execution_count": 7,
   "metadata": {},
   "outputs": [],
   "source": [
    "import numpy as np\n",
    "import pandas as pd\n",
    "import matplotlib.pyplot as plt\n",
    "%matplotlib inline"
   ]
  },
  {
   "cell_type": "code",
   "execution_count": 8,
   "metadata": {},
   "outputs": [],
   "source": [
    "M = np.array([[1, 2, 2, 0, 0],\n",
    "              [3, 5, 5, 0, 0],\n",
    "              [4, 4, 4, 0, 0],\n",
    "              [5, 5, 5, 0, 0],\n",
    "              [0, 2, 0, 4, 4],\n",
    "              [0, 0, 0, 5, 5],\n",
    "              [0, 1, 0, 2, 2]])"
   ]
  },
  {
   "cell_type": "code",
   "execution_count": 19,
   "metadata": {
    "scrolled": false
   },
   "outputs": [],
   "source": [
    "# Compute SVD\n",
    "from numpy.linalg import svd\n",
    "U, sigma, VT = svd(M,full_matrices=False)"
   ]
  },
  {
   "cell_type": "markdown",
   "metadata": {},
   "source": [
    "## Part 1\n",
    "\n",
    "Describe in your own words what the matrices contain and how they might be used"
   ]
  },
  {
   "cell_type": "code",
   "execution_count": 1,
   "metadata": {},
   "outputs": [],
   "source": [
    "## U matrix\n",
    "## print the shape and add your description"
   ]
  },
  {
   "cell_type": "code",
   "execution_count": null,
   "metadata": {},
   "outputs": [],
   "source": [
    "## sigma matrix\n",
    "## print the shape and add your description"
   ]
  },
  {
   "cell_type": "code",
   "execution_count": 2,
   "metadata": {},
   "outputs": [],
   "source": [
    "## VT matrix\n",
    "## print the shape and add your description"
   ]
  },
  {
   "cell_type": "markdown",
   "metadata": {},
   "source": [
    "## Part 2\n",
    "\n",
    "Making use of the factorized version of our ratings"
   ]
  },
  {
   "cell_type": "code",
   "execution_count": 20,
   "metadata": {},
   "outputs": [
    {
     "name": "stdout",
     "output_type": "stream",
     "text": [
      "          0     1     2     3     4\n",
      "Alice -0.21  0.02  0.31  0.26  0.66\n",
      "Bob   -0.55  0.06  0.53  0.46 -0.33\n",
      "Cindy -0.50  0.07 -0.31 -0.20 -0.37\n",
      "Dan   -0.62  0.08 -0.39 -0.24  0.36\n",
      "Emily -0.12 -0.60  0.40 -0.52  0.20\n",
      "Frank -0.04 -0.73 -0.42  0.53 -0.00\n",
      "Greg  -0.06 -0.30  0.20 -0.26 -0.40\n",
      "--------------------------------------\n",
      "[[ 13.84   0.     0.     0.     0.  ]\n",
      " [  0.     9.52   0.     0.     0.  ]\n",
      " [  0.     0.     1.69   0.     0.  ]\n",
      " [  0.     0.     0.     1.02   0.  ]\n",
      " [  0.     0.     0.     0.     0.  ]]\n",
      "--------------------------------------\n",
      "   Matrix  Alien  StarWars  Casablanca  Titanic\n",
      "0   -0.50  -0.62     -0.60       -0.06    -0.06\n",
      "1    0.09  -0.05      0.11       -0.70    -0.70\n",
      "2   -0.78   0.62      0.03       -0.07    -0.07\n",
      "3   -0.36  -0.48      0.79        0.05     0.05\n",
      "4    0.00   0.00     -0.00       -0.71     0.71\n"
     ]
    }
   ],
   "source": [
    "# Make interpretable\n",
    "movies = ['Matrix','Alien','StarWars','Casablanca','Titanic']\n",
    "users = ['Alice','Bob','Cindy','Dan','Emily','Frank','Greg']\n",
    "\n",
    "U, sigma, VT = (np.around(x,2) for x in (U,sigma,VT))\n",
    "df_U = pd.DataFrame(U, index=users)\n",
    "df_VT = pd.DataFrame(VT, columns=movies)\n",
    "\n",
    "print(df_U)\n",
    "print(\"--------------------------------------\")\n",
    "print(np.diag(sigma))\n",
    "print(\"--------------------------------------\")\n",
    "print(df_VT)"
   ]
  },
  {
   "cell_type": "markdown",
   "metadata": {},
   "source": [
    "Add your own description of how the matrices relate to each other"
   ]
  },
  {
   "cell_type": "markdown",
   "metadata": {},
   "source": [
    "## Trim the matrices to represent a factorization from only the top two factors"
   ]
  },
  {
   "cell_type": "code",
   "execution_count": null,
   "metadata": {},
   "outputs": [],
   "source": []
  },
  {
   "cell_type": "markdown",
   "metadata": {},
   "source": [
    "## Part 3: Does your approximate version of the matrix still reasonably reconstruct the original?"
   ]
  },
  {
   "cell_type": "code",
   "execution_count": 22,
   "metadata": {},
   "outputs": [
    {
     "data": {
      "text/html": [
       "<div>\n",
       "<style scoped>\n",
       "    .dataframe tbody tr th:only-of-type {\n",
       "        vertical-align: middle;\n",
       "    }\n",
       "\n",
       "    .dataframe tbody tr th {\n",
       "        vertical-align: top;\n",
       "    }\n",
       "\n",
       "    .dataframe thead th {\n",
       "        text-align: right;\n",
       "    }\n",
       "</style>\n",
       "<table border=\"1\" class=\"dataframe\">\n",
       "  <thead>\n",
       "    <tr style=\"text-align: right;\">\n",
       "      <th></th>\n",
       "      <th>Matrix</th>\n",
       "      <th>Alien</th>\n",
       "      <th>StarWars</th>\n",
       "      <th>Casablanca</th>\n",
       "      <th>Titanic</th>\n",
       "    </tr>\n",
       "  </thead>\n",
       "  <tbody>\n",
       "    <tr>\n",
       "      <th>Alice</th>\n",
       "      <td>1.0</td>\n",
       "      <td>2.0</td>\n",
       "      <td>2.0</td>\n",
       "      <td>0.0</td>\n",
       "      <td>0.0</td>\n",
       "    </tr>\n",
       "    <tr>\n",
       "      <th>Bob</th>\n",
       "      <td>3.0</td>\n",
       "      <td>5.0</td>\n",
       "      <td>5.0</td>\n",
       "      <td>0.0</td>\n",
       "      <td>0.0</td>\n",
       "    </tr>\n",
       "    <tr>\n",
       "      <th>Cindy</th>\n",
       "      <td>4.0</td>\n",
       "      <td>4.0</td>\n",
       "      <td>4.0</td>\n",
       "      <td>-0.0</td>\n",
       "      <td>-0.0</td>\n",
       "    </tr>\n",
       "    <tr>\n",
       "      <th>Dan</th>\n",
       "      <td>5.0</td>\n",
       "      <td>5.0</td>\n",
       "      <td>5.0</td>\n",
       "      <td>0.0</td>\n",
       "      <td>0.0</td>\n",
       "    </tr>\n",
       "    <tr>\n",
       "      <th>Emily</th>\n",
       "      <td>-0.0</td>\n",
       "      <td>2.0</td>\n",
       "      <td>-0.0</td>\n",
       "      <td>4.0</td>\n",
       "      <td>4.0</td>\n",
       "    </tr>\n",
       "    <tr>\n",
       "      <th>Frank</th>\n",
       "      <td>0.0</td>\n",
       "      <td>-0.0</td>\n",
       "      <td>-0.0</td>\n",
       "      <td>5.0</td>\n",
       "      <td>5.0</td>\n",
       "    </tr>\n",
       "    <tr>\n",
       "      <th>Greg</th>\n",
       "      <td>-0.0</td>\n",
       "      <td>1.0</td>\n",
       "      <td>-0.0</td>\n",
       "      <td>2.0</td>\n",
       "      <td>2.0</td>\n",
       "    </tr>\n",
       "  </tbody>\n",
       "</table>\n",
       "</div>"
      ],
      "text/plain": [
       "       Matrix  Alien  StarWars  Casablanca  Titanic\n",
       "Alice     1.0    2.0       2.0         0.0      0.0\n",
       "Bob       3.0    5.0       5.0         0.0      0.0\n",
       "Cindy     4.0    4.0       4.0        -0.0     -0.0\n",
       "Dan       5.0    5.0       5.0         0.0      0.0\n",
       "Emily    -0.0    2.0      -0.0         4.0      4.0\n",
       "Frank     0.0   -0.0      -0.0         5.0      5.0\n",
       "Greg     -0.0    1.0      -0.0         2.0      2.0"
      ]
     },
     "execution_count": 22,
     "metadata": {},
     "output_type": "execute_result"
    }
   ],
   "source": [
    "# Use this code but swap in your matrices\n",
    "np.around(df_U.dot(np.diag(sigma)).dot(_VT))"
   ]
  },
  {
   "cell_type": "markdown",
   "metadata": {},
   "source": [
    "## Part 4: Make some recommendations\n",
    "\n",
    "Use cosine similarity to compare all other users to Alice (using movie profiles)"
   ]
  },
  {
   "cell_type": "code",
   "execution_count": null,
   "metadata": {},
   "outputs": [],
   "source": []
  },
  {
   "cell_type": "markdown",
   "metadata": {},
   "source": [
    "Use cosine similarity to comare all other movies to StarWars (using user profiles)"
   ]
  },
  {
   "cell_type": "code",
   "execution_count": null,
   "metadata": {},
   "outputs": [],
   "source": []
  },
  {
   "cell_type": "markdown",
   "metadata": {},
   "source": [
    "Provide a new vector of ratings and determine which is closest"
   ]
  },
  {
   "cell_type": "code",
   "execution_count": null,
   "metadata": {},
   "outputs": [],
   "source": []
  }
 ],
 "metadata": {
  "kernelspec": {
   "display_name": "Python 3",
   "language": "python",
   "name": "python3"
  },
  "language_info": {
   "codemirror_mode": {
    "name": "ipython",
    "version": 3
   },
   "file_extension": ".py",
   "mimetype": "text/x-python",
   "name": "python",
   "nbconvert_exporter": "python",
   "pygments_lexer": "ipython3",
   "version": "3.6.4"
  }
 },
 "nbformat": 4,
 "nbformat_minor": 1
}
