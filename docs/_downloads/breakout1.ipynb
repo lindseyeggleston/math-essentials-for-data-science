{
 "cells": [
  {
   "cell_type": "markdown",
   "metadata": {},
   "source": [
    "# Linear algebra and NumPy\n",
    "\n",
    "This morning we will revisit some linear algebra using the NumPy library in python. \n",
    "\n",
    "**For the following exercises, use numpy vector/matrix operations. Do not use a for loop unless given explicit instructions**\n",
    "\n",
    "## Part 0: Important Numpy Notes:\n",
    "\n",
    "In an numpy array, a **row vector** is defined as:\n",
    "\n",
    "```python\n",
    "a = np.array([[1, 2, 3]])\n",
    "```\n",
    "The shape of `a` is `(1, 3)`.\n",
    "\n",
    "A **column vector** is defined as:\n",
    "```python\n",
    "b = np.array([[1], [2], [3]])\n",
    "```\n",
    "The shape of `b` is `(3, 1)`.\n",
    "\n",
    "Ensure that you check the `shape` of all the vectors throughout the exercise.\n",
    "If the shape is missing a value, i.e. `(3,)` or  `(,3)`, use `np.newaxis` to\n",
    "restore the correct dimensions."
   ]
  },
  {
   "cell_type": "code",
   "execution_count": 10,
   "metadata": {},
   "outputs": [],
   "source": [
    "import numpy as np"
   ]
  },
  {
   "cell_type": "markdown",
   "metadata": {},
   "source": [
    "## Part 1: Linear Algebra Practice:\n",
    "\n",
    "### Part 1.1\n",
    "\n",
    "The [stochastic matrix](https://en.wikipedia.org/wiki/Stochastic_matrix) or a Markov Matrix is a useful mathematical construct.  It is used to characterize transitions for a finite [Markov chain](https://en.wikipedia.org/wiki/Markov_chain). [A markov chain](https://en.oxforddictionaries.com/definition/us/markov_chain) can be described as follows:\n",
    "\n",
    ">a stochastic model describing a sequence of possible events in which the probability of each event depends only  on the state attained in the previous event.\n",
    "\n",
    "The stoichastic matrix is a square matrix specifying the probabilities of going from one state to the other such that every column of the matrix sums to 1.\n",
    "\n",
    "The probability of entering a certain state depends only on the last state occupied and the stochastic matrix, not on any earlier states.\n",
    "\n",
    "Suppose that the 2004 **state of land use** in a city of 60 $\\textrm{miles}^2$ of built-up\n",
    "area is:\n",
    "\n",
    "\n",
    "\n",
    "```\n",
    "In 2004:\n",
    "   \n",
    "C (Commercially Used): 25%\n",
    "I (Industrially Used): 20%\n",
    "R (Residentially Used): 55%\n",
    "```\n",
    "\n",
    "Find the **state of land use** in **2009** and **2014**,\n",
    "assuming that the transition probabilities for 5-year intervals are given\n",
    "by the matrix **A** and remain practically the same over the time considered.\n",
    "\n",
    "The following matrix can help visualize this process:\n",
    "\n",
    "$$\n",
    "    \\mathbf{A} =\n",
    "    \\begin{pmatrix}\n",
    "    C\\rightarrow C & I\\rightarrow C & R \\rightarrow C \\\\ \n",
    "    C\\rightarrow I & I\\rightarrow I & R \\rightarrow I \\\\ \n",
    "    C\\rightarrow R & I\\rightarrow R & R \\rightarrow R \\\\ \n",
    "    \\end{pmatrix}\n",
    "    = \n",
    "    \\begin{pmatrix}\n",
    "    0.7 & 0.1 & 0.0\\\\ \n",
    "    0.2 & 0.9 & 0.2\\\\ \n",
    "    0.1 & 0.0 & 0.8\\\\\n",
    "    \\end{pmatrix}\n",
    "$$"
   ]
  },
  {
   "cell_type": "code",
   "execution_count": 3,
   "metadata": {},
   "outputs": [],
   "source": [
    "# Question 1\n",
    "# Create the stochastic matrix shown above"
   ]
  },
  {
   "cell_type": "code",
   "execution_count": 4,
   "metadata": {},
   "outputs": [],
   "source": [
    "# Question 2\n",
    "# Create a vector representing the initial state of land use"
   ]
  },
  {
   "cell_type": "code",
   "execution_count": null,
   "metadata": {},
   "outputs": [],
   "source": [
    "# Question 3\n",
    "# Determine the state of land use in 2009"
   ]
  },
  {
   "cell_type": "code",
   "execution_count": null,
   "metadata": {},
   "outputs": [],
   "source": [
    "# Question 4\n",
    "# Determine the state of land use in 2014"
   ]
  },
  {
   "cell_type": "code",
   "execution_count": 14,
   "metadata": {
    "scrolled": true
   },
   "outputs": [
    {
     "data": {
      "image/png": "[encoded data removed]",
      "text/plain": [
       "<matplotlib.figure.Figure at 0x7f14c7aba4a8>"
      ]
     },
     "metadata": {},
     "output_type": "display_data"
    }
   ],
   "source": [
    "# Extra credit\n",
    "# look at the following example plot and modify it to visualize the trend until 2029\n",
    "\n",
    "import matplotlib.pyplot as plt\n",
    "%matplotlib inline\n",
    "\n",
    "fig = plt.figure(figsize=(10,10))\n",
    "ax = fig.add_subplot(111)\n",
    "\n",
    "N = 5\n",
    "data1 = [20, 35, 30, 35, 27]\n",
    "data2 = [25, 32, 34, 20, 25]\n",
    "\n",
    "ind = np.arange(N)    # the x locations for the groups\n",
    "width = 0.35          # the width of the bars: can also be len(x) sequence\n",
    "\n",
    "p1 = ax.bar(ind, data1, width, color='blue')\n",
    "p2 = ax.bar(ind, data2, width, color='orange',bottom=data1)\n",
    "\n",
    "ax.set_ylabel('Values')\n",
    "ax.set_title('Trend')\n",
    "ax.set_xticks(ind, ('1', '2', '3', '4', '5'))\n",
    "#plt.yticks(np.arange(0, 81, 10))\n",
    "ax.legend((p1[0], p2[0]), ('Data1', 'Data2'))\n",
    "pass\n"
   ]
  },
  {
   "cell_type": "code",
   "execution_count": null,
   "metadata": {},
   "outputs": [],
   "source": []
  }
 ],
 "metadata": {
  "kernelspec": {
   "display_name": "Python 3",
   "language": "python",
   "name": "python3"
  },
  "language_info": {
   "codemirror_mode": {
    "name": "ipython",
    "version": 3
   },
   "file_extension": ".py",
   "mimetype": "text/x-python",
   "name": "python",
   "nbconvert_exporter": "python",
   "pygments_lexer": "ipython3",
   "version": "3.6.4"
  }
 },
 "nbformat": 4,
 "nbformat_minor": 2
}
